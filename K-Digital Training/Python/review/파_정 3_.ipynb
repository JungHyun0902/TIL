{
 "cells": [
  {
   "cell_type": "markdown",
   "metadata": {},
   "source": [
    "## 3장 타입"
   ]
  },
  {
   "cell_type": "code",
   "execution_count": 5,
   "metadata": {},
   "outputs": [
    {
     "name": "stdout",
     "output_type": "stream",
     "text": [
      "I say \"Help\" to you\n"
     ]
    }
   ],
   "source": [
    "print(\"I say \\\"Help\\\" to you\")"
   ]
  },
  {
   "cell_type": "code",
   "execution_count": 6,
   "metadata": {},
   "outputs": [
    {
     "name": "stdout",
     "output_type": "stream",
     "text": [
      "Hello\tmy\tdear\n"
     ]
    }
   ],
   "source": [
    "print(\"Hello\\tmy\\tdear\")"
   ]
  },
  {
   "cell_type": "code",
   "execution_count": 7,
   "metadata": {},
   "outputs": [
    {
     "name": "stdout",
     "output_type": "stream",
     "text": [
      "hi\n",
      "nice to meet you\n"
     ]
    }
   ],
   "source": [
    "print('hi\\nnice to meet you')"
   ]
  },
  {
   "cell_type": "code",
   "execution_count": 11,
   "metadata": {},
   "outputs": [
    {
     "name": "stdout",
     "output_type": "stream",
     "text": [
      "ABCDEFGHIJKLMNOPQRSTUVWXYZ"
     ]
    }
   ],
   "source": [
    "for c in range(ord('A'), ord('Z')+1): #ord함수는 문자의 코드를 조사 / chr함수는 코드로 부터 문자를 구함\n",
    "    print(chr(c), end='')"
   ]
  },
  {
   "cell_type": "code",
   "execution_count": 15,
   "metadata": {},
   "outputs": [
    {
     "name": "stdout",
     "output_type": "stream",
     "text": [
      "손오공 출동\n",
      "저팔계 출동\n",
      "사오정 출동\n",
      "삼장법사 출동\n"
     ]
    }
   ],
   "source": [
    "member = ['손오공', '저팔계', '사오정', '삼장법사']\n",
    "for m in member:\n",
    "    print(m, '출동')"
   ]
  },
  {
   "cell_type": "markdown",
   "metadata": {},
   "source": [
    "## 4장 연산자"
   ]
  },
  {
   "cell_type": "code",
   "execution_count": 20,
   "metadata": {},
   "outputs": [
    {
     "name": "stdout",
     "output_type": "stream",
     "text": [
      "121\n",
      "2.5\n",
      "2\n",
      "1\n"
     ]
    }
   ],
   "source": [
    "# 산술연산자\n",
    "print(11**2) # 거듭제곱 \n",
    "print(5/2) # 실수 나누기\n",
    "print(5//2) # 정수 나누기 (몫)\n",
    "print(5%2) # 나눗셈 후 나머지"
   ]
  },
  {
   "cell_type": "code",
   "execution_count": 23,
   "metadata": {},
   "outputs": [
    {
     "name": "stdout",
     "output_type": "stream",
     "text": [
      "2\n",
      "50\n",
      "900.0\n"
     ]
    }
   ],
   "source": [
    "# 복합대입연산자\n",
    "a = 1\n",
    "a += 1 # a를 1 증가시킴\n",
    "print(a)\n",
    "\n",
    "b = 100\n",
    "b -= 50 # b를 50 감소\n",
    "print(b)\n",
    "\n",
    "c = 1000\n",
    "c *= 0.9 # c에 0.9 곱함(c의 90%)\n",
    "print(c)"
   ]
  },
  {
   "cell_type": "code",
   "execution_count": 27,
   "metadata": {},
   "outputs": [
    {
     "name": "stdout",
     "output_type": "stream",
     "text": [
      "대한민국만세\n",
      "--------------------------------------------------\n",
      "좋아 좋아 좋아 좋아 좋아 \n"
     ]
    }
   ],
   "source": [
    "# 문자열 연산\n",
    "s1 = '대한민국'\n",
    "s2 = '만세'\n",
    "print(s1 + s2) \n",
    "print(\"-\" * 50)\n",
    "print(\"좋아 \" * 5)"
   ]
  },
  {
   "cell_type": "code",
   "execution_count": 30,
   "metadata": {},
   "outputs": [
    {
     "name": "stdout",
     "output_type": "stream",
     "text": [
      "korea2002\n",
      "15\n"
     ]
    }
   ],
   "source": [
    "# 정수와 문자열\n",
    "\n",
    "# 에러 -> print(\"korea\" + 2002)\n",
    "print(\"korea\"+str(2002)) # 문자열과 숫자를 연결하려면 숫자를 str함수로 문자열로 변환 후 연결\n",
    "print(10 + int(\"5\")) # 문자열을 숫자로 바꿀 때는 int함수를 사용"
   ]
  },
  {
   "cell_type": "code",
   "execution_count": 34,
   "metadata": {},
   "outputs": [
    {
     "name": "stdout",
     "output_type": "stream",
     "text": [
      "32.5\n",
      "13.14\n",
      "32\n",
      "32\n"
     ]
    }
   ],
   "source": [
    "# 실수의 변환\n",
    "\n",
    "print(10 + float('22.5')) # 실수가 저장된 문자열을 실수로 변경할 때는 float함수 사용\n",
    "print(10 + float('314e-2'))\n",
    "\n",
    "print(10 + int(22.5)) # 실수를 정수로 바꿀 때는 int함수 사용. 이때 소수점 이하는 사라짐. \n",
    "print(10 + int(float('22.5'))) # 문자열 실수를 정수로 바꿀 때는 일단 float 함수로 문자열을 실수로 바꾸고 다시 int함수 사용. "
   ]
  },
  {
   "cell_type": "code",
   "execution_count": 35,
   "metadata": {},
   "outputs": [
    {
     "name": "stdout",
     "output_type": "stream",
     "text": [
      "2\n",
      "3\n",
      "2.5\n",
      "123000\n"
     ]
    }
   ],
   "source": [
    "print(int(2.54)) # 소수점 이하를 무조건 자름(내림)\n",
    "print(round(2.54)) # 반올림\n",
    "print(round(2.54, 1)) # 소수점 첫째 자리의 정밀도로 반올림\n",
    "print(round(123456, -3)) # -3은 1000자리까지 유효한 값으로 변환하라는 뜻"
   ]
  },
  {
   "cell_type": "markdown",
   "metadata": {},
   "source": [
    "## 5장 조건문"
   ]
  },
  {
   "cell_type": "markdown",
   "metadata": {},
   "source": [
    "### 5.1 if 조건문"
   ]
  },
  {
   "cell_type": "code",
   "execution_count": 36,
   "metadata": {},
   "outputs": [
    {
     "name": "stdin",
     "output_type": "stream",
     "text": [
      "몇살이십니까? 15\n"
     ]
    },
    {
     "name": "stdout",
     "output_type": "stream",
     "text": [
      "애들은 가라\n"
     ]
    }
   ],
   "source": [
    "age = int(input(\"몇살이십니까?\"))\n",
    "if age < 19: \n",
    "    print(\"애들은 가라\")"
   ]
  },
  {
   "cell_type": "code",
   "execution_count": 41,
   "metadata": {},
   "outputs": [
    {
     "name": "stdout",
     "output_type": "stream",
     "text": [
      "a는 3이다\n",
      "a는 5보다 작다\n",
      "한국입니다.\n",
      "한국이 더 크다\n"
     ]
    }
   ],
   "source": [
    "# 비교연산자\n",
    "\n",
    "# compare \n",
    "a = 3\n",
    "if a == 3:\n",
    "    print('a는 3이다')\n",
    "if a > 5:\n",
    "    print('a는 5보다 크다')\n",
    "if a < 5:\n",
    "    print('a는 5보다 작다')\n",
    "    \n",
    "# stringcompare\n",
    "country = \"Korea\"\n",
    "if country == \"Korea\":\n",
    "    print(\"한국입니다.\")\n",
    "if country == \"korea\":\n",
    "    print(\"대한민국입니다.\")\n",
    "\n",
    "# stringcompare2 - 문자열 대소비교는 사전순으로 비교. 사전의 뒤쪽에 나오는 문자열을 큰 것으로 평가\n",
    "if (\"korea\" > \"china\"):\n",
    "    print(\"한국이 더 크다\")\n",
    "if (\"korea\" < \"china\"):\n",
    "    print(\"중국이 더 크다\")"
   ]
  },
  {
   "cell_type": "code",
   "execution_count": 43,
   "metadata": {},
   "outputs": [
    {
     "name": "stdout",
     "output_type": "stream",
     "text": [
      "OK\n",
      "OK2\n"
     ]
    }
   ],
   "source": [
    "# 논리연산자\n",
    "\n",
    "a = 3\n",
    "if a > 1 and a < 10:\n",
    "    print(\"OK\")\n",
    "    \n",
    "if 1 < a < 10:\n",
    "    print(\"OK2\")"
   ]
  },
  {
   "cell_type": "markdown",
   "metadata": {},
   "source": [
    "### 5.2 블록구조"
   ]
  },
  {
   "cell_type": "code",
   "execution_count": 44,
   "metadata": {},
   "outputs": [
    {
     "name": "stdout",
     "output_type": "stream",
     "text": [
      "애들은 가라\n",
      "공부 열심히 해\n"
     ]
    }
   ],
   "source": [
    "#block - 한꺼번에 실행되는 명령의 묶음(블록), 파이썬은 들여쓰기로 블록을 구분.\n",
    "age = 16\n",
    "if age < 19:\n",
    "    print(\"애들은 가라\")\n",
    "    print(\"공부 열심히 해\")"
   ]
  },
  {
   "cell_type": "code",
   "execution_count": 46,
   "metadata": {},
   "outputs": [
    {
     "name": "stdout",
     "output_type": "stream",
     "text": [
      "어서 옵쇼\n",
      "\n",
      "\n",
      "애들은 가라\n",
      "공부 열심히 해야지\n"
     ]
    }
   ],
   "source": [
    "# else문\n",
    "\n",
    "age = 22\n",
    "if age < 19:\n",
    "    print(\"애들은 가라\")\n",
    "else:\n",
    "    print('어서 옵쇼')\n",
    "    \n",
    "print('\\n')\n",
    "\n",
    "age = 12\n",
    "if age < 19:\n",
    "    print('애들은 가라')\n",
    "    print('공부 열심히 해야지')\n",
    "else:\n",
    "    print('어서 옵쇼')\n",
    "    print('즐거운 시간 보내세요')"
   ]
  },
  {
   "cell_type": "code",
   "execution_count": 47,
   "metadata": {},
   "outputs": [
    {
     "name": "stdout",
     "output_type": "stream",
     "text": [
      "대학생입니다\n"
     ]
    }
   ],
   "source": [
    "# elif문\n",
    "\n",
    "age = 23\n",
    "if age < 19:\n",
    "    print('애들은 가라')\n",
    "elif age < 25:\n",
    "    print('대학생입니다')\n",
    "else:\n",
    "    print('어서 옵쇼')"
   ]
  },
  {
   "cell_type": "code",
   "execution_count": 50,
   "metadata": {},
   "outputs": [
    {
     "name": "stdin",
     "output_type": "stream",
     "text": [
      "how much money do you have? 30000\n"
     ]
    },
    {
     "name": "stdout",
     "output_type": "stream",
     "text": [
      "탕수육을 먹는다\n"
     ]
    }
   ],
   "source": [
    "money = int(input(\"how much money do you have?\"))\n",
    "if money >= 20000:\n",
    "    print('탕수육을 먹는다')\n",
    "elif money >= 10000:\n",
    "    print('쟁반 짜장을 먹는다')\n",
    "elif money >= 6000:\n",
    "    print('짬뽕을 먹는다')\n",
    "elif money >= 4000:\n",
    "    print('짜장면을 먹는다')\n",
    "else:\n",
    "    print('입맛을 다시며 물을 마신다')"
   ]
  },
  {
   "cell_type": "code",
   "execution_count": null,
   "metadata": {},
   "outputs": [],
   "source": [
    "# if문 중첩\n",
    "\n"
   ]
  },
  {
   "cell_type": "code",
   "execution_count": null,
   "metadata": {},
   "outputs": [],
   "source": []
  },
  {
   "cell_type": "code",
   "execution_count": null,
   "metadata": {},
   "outputs": [],
   "source": []
  },
  {
   "cell_type": "code",
   "execution_count": null,
   "metadata": {},
   "outputs": [],
   "source": []
  },
  {
   "cell_type": "code",
   "execution_count": null,
   "metadata": {},
   "outputs": [],
   "source": []
  },
  {
   "cell_type": "code",
   "execution_count": null,
   "metadata": {},
   "outputs": [],
   "source": []
  },
  {
   "cell_type": "code",
   "execution_count": null,
   "metadata": {},
   "outputs": [],
   "source": []
  },
  {
   "cell_type": "code",
   "execution_count": null,
   "metadata": {},
   "outputs": [],
   "source": []
  },
  {
   "cell_type": "code",
   "execution_count": null,
   "metadata": {},
   "outputs": [],
   "source": []
  },
  {
   "cell_type": "code",
   "execution_count": null,
   "metadata": {},
   "outputs": [],
   "source": []
  },
  {
   "cell_type": "code",
   "execution_count": null,
   "metadata": {},
   "outputs": [],
   "source": []
  },
  {
   "cell_type": "code",
   "execution_count": null,
   "metadata": {},
   "outputs": [],
   "source": []
  },
  {
   "cell_type": "code",
   "execution_count": null,
   "metadata": {},
   "outputs": [],
   "source": []
  }
 ],
 "metadata": {
  "kernelspec": {
   "display_name": "pydatavenv",
   "language": "python",
   "name": "pydatavenv"
  },
  "language_info": {
   "codemirror_mode": {
    "name": "ipython",
    "version": 3
   },
   "file_extension": ".py",
   "mimetype": "text/x-python",
   "name": "python",
   "nbconvert_exporter": "python",
   "pygments_lexer": "ipython3",
   "version": "3.8.8"
  }
 },
 "nbformat": 4,
 "nbformat_minor": 4
}
