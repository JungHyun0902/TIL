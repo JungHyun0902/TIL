{
 "cells": [
  {
   "cell_type": "code",
   "execution_count": 36,
   "metadata": {},
   "outputs": [],
   "source": [
    "# 3월 29일 -2  \n",
    "import urllib.request \n",
    "from bs4 import BeautifulSoup\n",
    "import json\n",
    "\n",
    "client_key = 'izGsqP2exeThwwEUVU3x'\n",
    "client_secret = 'WrwbQ1l6ZI'\n",
    "\n",
    "\n",
    "def naver_search (keyword, callType = 'JSON') :\n",
    "    query = urllib.parse.quote_plus(keyword)\n",
    "    if callType == 'JSON':\n",
    "        naver_url = 'https://openapi.naver.com/v1/search/local.json?query=%s&display=%s' % (query, '5')\n",
    "    else : \n",
    "        naver_url = 'https://openapi.naver.com/v1/search/local.xml?query=%s&display=%s' % (query, '5')\n",
    "              \n",
    "    req = urllib.request.Request(naver_url)\n",
    "    req.add_header(\"X-Naver-Client-Id\",client_key)\n",
    "    req.add_header(\"X-Naver-Client-Secret\",client_secret)\n",
    "    response = urllib.request.urlopen(req)\n",
    "    \n",
    "    if callType == 'JSON':\n",
    "        response_body = response.read()\n",
    "        dataList = json.loads(response_body)\n",
    "        count = 1\n",
    "        print('[' + keyword + '집에 대한 네이버 지역 정보(JSON) ]')\n",
    "        for data in dataList['items'] :\n",
    "            print (str(count) + ' : ' + data['title'] + ',' + data['address'])\n",
    "            count += 1\n",
    "    else:\n",
    "        soup = BeautifulSoup(response.read().decode('utf-8'), 'xml')      \n",
    "        dataList = []\n",
    "        for itemList in soup.find_all('item') :\n",
    "            title = itemList.find('title').string\n",
    "            address = itemList.find('address').string         \n",
    "            dataList.append((title, address))\n",
    "        count = 1\n",
    "        print('[' + keyword + '집에 대한 네이버 지역 정보(XML) ]')\n",
    "        for title, address in dataList :\n",
    "            print (str(count) + ' : ' + title + ',' + address)\n",
    "            count += 1\n",
    " "
   ]
  },
  {
   "cell_type": "code",
   "execution_count": 35,
   "metadata": {},
   "outputs": [
    {
     "name": "stdout",
     "output_type": "stream",
     "text": [
      "[짜장면집에 대한 네이버 지역 정보(XML) ]\n",
      "1 : 딘타이펑 명동점,서울특별시 중구 명동1가 59-1\n",
      "2 : 몽중헌 페럼타워점,서울특별시 중구 수하동 66\n",
      "3 : 원흥,서울특별시 중구 다동 92\n",
      "4 : 복성각 덕수궁점,서울특별시 중구 태평로2가 366-1 오천회관빌딩 2층\n",
      "5 : 더 플라자 도원,서울특별시 중구 태평로2가 23\n"
     ]
    }
   ],
   "source": [
    "naver_search('짜장면', 'XML')"
   ]
  },
  {
   "cell_type": "code",
   "execution_count": 20,
   "metadata": {},
   "outputs": [
    {
     "name": "stdout",
     "output_type": "stream",
     "text": [
      "[쌀국수집에 대한 네이버 지역 정보(JSON) ]\n",
      "1 : 포하노이,서울특별시 종로구 청진동 70 B1\n",
      "2 : 호아빈 서울시청점,서울특별시 중구 서소문동 14-2\n",
      "3 : 미스사이공 명동,서울특별시 중구 명동2가 54-2\n",
      "4 : 반포식스 광화문점,서울특별시 종로구 신문로1가 239\n",
      "5 : 사이공,서울특별시 종로구 종로1가 24\n"
     ]
    }
   ],
   "source": [
    "naver_search('쌀국수')         "
   ]
  }
 ],
 "metadata": {
  "kernelspec": {
   "display_name": "pydatavenv",
   "language": "python",
   "name": "pydatavenv"
  },
  "language_info": {
   "codemirror_mode": {
    "name": "ipython",
    "version": 3
   },
   "file_extension": ".py",
   "mimetype": "text/x-python",
   "name": "python",
   "nbconvert_exporter": "python",
   "pygments_lexer": "ipython3",
   "version": "3.8.8"
  }
 },
 "nbformat": 4,
 "nbformat_minor": 4
}
