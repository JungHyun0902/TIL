{
 "cells": [
  {
   "cell_type": "code",
   "execution_count": null,
   "metadata": {},
   "outputs": [],
   "source": [
    "from matplotlib import font_manager, rc\n",
    "font_path = \"data/THEdog.ttf\"   \n",
    "font_name = font_manager.FontProperties(fname=font_path).get_name()\n",
    "rc('font', family=font_name)\n",
    "\n",
    "from wordcloud import WordCloud            \n",
    "import matplotlib.pyplot as plt \n",
    "myfontpath = \"data/THEdog.ttf\" \n",
    "\n",
    "f = open(\"output/naverhotel.txt\", 'r', encoding = 'UTF-8')\n",
    "data = f.read()\n",
    "f.close()\n",
    "\n",
    "import nltk   \n",
    "from konlpy.tag import Okt      \n",
    "t = Okt()\n",
    "tokens_data = t.nouns(data)\n",
    "nouns_data = nltk.Text(tokens_data)\n",
    "data = nouns_data.vocab().most_common() \n",
    "\n",
    "\n",
    "wc = WordCloud(font_path=myfontpath,\n",
    "               relative_scaling = 0.2,\n",
    "               background_color='black',\n",
    "               colormap = 'Set1', \n",
    "               width = 700,\n",
    "               height = 500,\n",
    "               ).generate_from_frequencies(dict(data))             \n",
    "wc.to_file('output/hw8.png')"
   ]
  }
 ],
 "metadata": {
  "kernelspec": {
   "display_name": "pydatavenv",
   "language": "python",
   "name": "pydatavenv"
  },
  "language_info": {
   "codemirror_mode": {
    "name": "ipython",
    "version": 3
   },
   "file_extension": ".py",
   "mimetype": "text/x-python",
   "name": "python",
   "nbconvert_exporter": "python",
   "pygments_lexer": "ipython3",
   "version": "3.8.8"
  }
 },
 "nbformat": 4,
 "nbformat_minor": 4
}
